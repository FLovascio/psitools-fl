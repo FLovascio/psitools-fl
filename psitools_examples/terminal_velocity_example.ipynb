{
 "cells": [
  {
   "cell_type": "code",
   "execution_count": 1,
   "metadata": {},
   "outputs": [],
   "source": [
    "import numpy as np\n",
    "import matplotlib.pyplot as plt\n",
    "\n",
    "from terminalvelocitysolver import TerminalVelocitySolver"
   ]
  },
  {
   "cell_type": "markdown",
   "metadata": {},
   "source": [
    "Parameters should be obvious from below. Note that the minimum stopping time should be an array (can be single element). Historically this is because the complex root finding algorithm needs to start **very** close to the actual root, which is unknown except in the single size limit. Therefore, the algorithm starts at the single size limit and works its way down towards the required minimum stopping time. It is therefore a good idea if a range of tau_min is required to do this in one go. Only a few size distributions are supported: beta = -3.5, -2.5, -1.5, -4. "
   ]
  },
  {
   "cell_type": "code",
   "execution_count": 2,
   "metadata": {},
   "outputs": [],
   "source": [
    "tau_min = np.logspace(-8, -2, 100)\n",
    "mode = TerminalVelocitySolver(dust_gas_ratio=3, \n",
    "                              wave_number_x=46, \n",
    "                              wave_number_z=1, \n",
    "                              minimum_stopping_time=tau_min, \n",
    "                              maximum_stopping_time=0.01, \n",
    "                              power_law_exponent_size_distribution=-3.5)"
   ]
  },
  {
   "cell_type": "markdown",
   "metadata": {},
   "source": [
    "Now find the roots of the dispersion relation. This can be slow and can get stuck if the growth rate gets very low. If after 100 iterations (keyword maximum_iterations) no solution has been found, it is assumed the growth rate is zero. "
   ]
  },
  {
   "cell_type": "code",
   "execution_count": 3,
   "metadata": {},
   "outputs": [],
   "source": [
    "w = mode.find_roots()"
   ]
  },
  {
   "cell_type": "code",
   "execution_count": 4,
   "metadata": {},
   "outputs": [
    {
     "data": {
      "text/plain": [
       "[<matplotlib.lines.Line2D at 0x103c5ddd0>]"
      ]
     },
     "execution_count": 4,
     "metadata": {},
     "output_type": "execute_result"
    },
    {
     "data": {
      "image/png": "[encoded data removed]",
      "text/plain": [
       "<Figure size 432x288 with 1 Axes>"
      ]
     },
     "metadata": {
      "needs_background": "light"
     },
     "output_type": "display_data"
    }
   ],
   "source": [
    "plt.xscale('log')\n",
    "plt.plot(tau_min, np.imag(w))"
   ]
  },
  {
   "cell_type": "code",
   "execution_count": null,
   "metadata": {},
   "outputs": [],
   "source": []
  }
 ],
 "metadata": {
  "kernelspec": {
   "display_name": "Python 3",
   "language": "python",
   "name": "python3"
  },
  "language_info": {
   "codemirror_mode": {
    "name": "ipython",
    "version": 3
   },
   "file_extension": ".py",
   "mimetype": "text/x-python",
   "name": "python",
   "nbconvert_exporter": "python",
   "pygments_lexer": "ipython3",
   "version": "3.6.9"
  }
 },
 "nbformat": 4,
 "nbformat_minor": 4
}
