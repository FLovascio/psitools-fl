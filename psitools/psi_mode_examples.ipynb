{
 "cells": [
  {
   "cell_type": "markdown",
   "metadata": {},
   "source": [
    "# PSI solver using rational approximation\n",
    "\n",
    "As an alternative to the integral eigenvalue problem, try to find the roots of the dispersion relation (solving $f(\\omega)=0$ for complex frequency $\\omega$) by doing a direct search in the complex plane (as in the terminal velocity solver). Problem with the dispersion relation $f$ of the full problem is that it is a beast to evaluate. Each evaluation requires numerically solving 9 integrals (complex, so really 18 integrals). And these are nasty integrals. We need to keep the number of evaluations of $f$ to a bare minimum. Moreover, since we *really* do not want to calculate an expression for $f'(\\omega)$, root finding is limited to the secant method. Therefore we need to start the search *very* close to the actual root for the secant method to converge.\n",
    "\n",
    "In the complex plane, several special techniques exist that do not work for $R^2$. Contour integration to identify roots, for example, see the [cxroots](https://rparini.github.io/cxroots/index.html) package. I found that to be too slow for our purposes. I settled for the rational approximation approach: given a few sample values of $f$, approximate it by a rational function. The zeros of the rational function should be close to the zeros of $f$. Use the zeros of the rational approximation as starting points for the secant search. \n",
    "\n",
    "## Inner workings\n",
    "\n",
    "The class ```PSIMode``` can calculate the roots of the full dispersion relation. It takes an optional argument, ```n_sample```, specifying the number of function samples to calculate inside the domain (uniform randomly distributed, default=20). If no root is found using these samples, there is the option of zooming in on potential roots, specified by the optional argument ```max_zoom_level```. The algorithm will do a maximum of ```max_zoom_level``` iterations, each time adding another ```n_sample``` points close to the roots that were closest to growing. This turns out to be a powerful way of quickly zooming in on the roots of the exact dispersion relation. \n",
    "\n",
    "A good value of ```n_sample``` is one that gets the basic structure of the dispersion relation correct. For the PSI so far, I have never seen any improvement by going above 20. Moreover, for power law size distributions it seems that ```n_sample=10``` finds all the roots. It is the Birnstiel cratering bump that apparently creates some more intricate structure in the dispersion relation to warrant more sample points. I have never seen any improvement by taking ```max_zoom_level``` larger than 1."
   ]
  },
  {
   "cell_type": "code",
   "execution_count": 1,
   "metadata": {},
   "outputs": [],
   "source": [
    "import numpy as np\n",
    "import matplotlib.pyplot as plt\n",
    "from psi_mode import PSIMode"
   ]
  },
  {
   "cell_type": "markdown",
   "metadata": {},
   "source": [
    "## Single size test\n",
    "\n",
    "Create the PSI mode object with a single size at St=0.1 (if ```single_size_flag``` is ```True```, the first element of ```stokes_range``` is ignored). Random sampling of the domain is used, so make the results reproduceable by calling ```random.seed``` first. The search area in the complex plane is specified by ```real_range``` and ```complex_range```. Note that we are searching for growing modes only (positive imaginary parts). Need to stay away from the real axis because of a branch cut for wide size distributions. "
   ]
  },
  {
   "cell_type": "code",
   "execution_count": 2,
   "metadata": {},
   "outputs": [],
   "source": [
    "np.random.seed(0)\n",
    "pm = PSIMode(dust_to_gas_ratio=3,\n",
    "             stokes_range=[1.0e-8, 0.1],\n",
    "             real_range=[-2, 2],\n",
    "             imag_range=[1.0e-8, 1],\n",
    "             single_size_flag=True)"
   ]
  },
  {
   "cell_type": "markdown",
   "metadata": {},
   "source": [
    "Calculate the growing mode for the dust rich test case linA. "
   ]
  },
  {
   "cell_type": "code",
   "execution_count": 3,
   "metadata": {},
   "outputs": [
    {
     "name": "stdout",
     "output_type": "stream",
     "text": [
      "Roots:  [0.34801869+0.4190302j]\n"
     ]
    }
   ],
   "source": [
    "roots = pm.calculate(wave_number_x=30, \n",
    "                     wave_number_z=30)\n",
    "print(\"Roots: \", roots)"
   ]
  },
  {
   "cell_type": "markdown",
   "metadata": {},
   "source": [
    "Plot the approximate dispersion relation (top) together with the exact dispersion relation (bottom). The latter is not recommended for a size range (*really* slow). In the top panel, sample points are indicated as circles. Red circles are the nodes of the rational approximation. "
   ]
  },
  {
   "cell_type": "code",
   "execution_count": 4,
   "metadata": {},
   "outputs": [
    {
     "data": {
      "image/png": "[encoded data removed]",
      "text/plain": [
       "<Figure size 432x288 with 4 Axes>"
      ]
     },
     "metadata": {
      "needs_background": "light"
     },
     "output_type": "display_data"
    }
   ],
   "source": [
    "pm.plot_dispersion(wave_number_x=30,\n",
    "                   wave_number_z=30,\n",
    "                   show_exact=True)"
   ]
  },
  {
   "cell_type": "markdown",
   "metadata": {},
   "source": [
    "## Polydisperse test\n",
    "\n",
    "A more interesting test is an epicyclic mode that could not be done with the terminal velocity solver. "
   ]
  },
  {
   "cell_type": "code",
   "execution_count": 5,
   "metadata": {},
   "outputs": [],
   "source": [
    "np.random.seed(0)\n",
    "pm = PSIMode(dust_to_gas_ratio=3,\n",
    "             stokes_range=[1.0e-8, 0.01],\n",
    "             real_range=[-2, 2],\n",
    "             imag_range=[1.0e-8, 1])"
   ]
  },
  {
   "cell_type": "code",
   "execution_count": 6,
   "metadata": {},
   "outputs": [
    {
     "name": "stdout",
     "output_type": "stream",
     "text": [
      "Roots:  [-1.00625799+1.32097848e-05j]\n"
     ]
    }
   ],
   "source": [
    "roots = pm.calculate(wave_number_x=10,\n",
    "                     wave_number_z=1000)\n",
    "print(\"Roots: \", roots)"
   ]
  },
  {
   "cell_type": "markdown",
   "metadata": {},
   "source": [
    "Seems to agree pretty well with the eigenvalue solver. It becomes more challenging when changing the maximum Stokes number to unity:"
   ]
  },
  {
   "cell_type": "code",
   "execution_count": 7,
   "metadata": {},
   "outputs": [],
   "source": [
    "np.random.seed(0)\n",
    "pm = PSIMode(dust_to_gas_ratio=3,\n",
    "             stokes_range=[1.0e-8, 1],\n",
    "             real_range=[-2, 2],\n",
    "             imag_range=[1.0e-8, 1])"
   ]
  },
  {
   "cell_type": "code",
   "execution_count": 8,
   "metadata": {},
   "outputs": [
    {
     "name": "stdout",
     "output_type": "stream",
     "text": [
      "Roots:  [-1.00487995+0.00089464j]\n"
     ]
    }
   ],
   "source": [
    "roots = pm.calculate(wave_number_x=0.1,\n",
    "                     wave_number_z=10)\n",
    "print(\"Roots: \", roots)"
   ]
  },
  {
   "cell_type": "markdown",
   "metadata": {},
   "source": [
    "The result appears to agree with one of the plots Colin sent."
   ]
  },
  {
   "cell_type": "markdown",
   "metadata": {},
   "source": [
    "## Arbitrary size distributions\n",
    "\n",
    "The original version of PSIMode was limited to the MRN size distribution. Since all integrals are done numerically anyway, it is relatively straightforward to generalize to arbitrary size distributions. The function that is needed under the integrals is $F(s) = a_{\\rm max} \\sigma^0(a_{\\rm max}s)/\\rho_{\\rm d}^0$, where $s = a/a_{\\rm max} = \\tau_{\\rm s}/\\tau_{\\rm s,max}$. A simple ```SizeDensity``` class acts to wrap a size density function (i.e. $\\sigma^0$) into $F(s)$. This class can be passed to ```PSIMode```. \n",
    "\n",
    "Below an example using ```get_sigma0_birnstiel_bump```."
   ]
  },
  {
   "cell_type": "code",
   "execution_count": 9,
   "metadata": {},
   "outputs": [],
   "source": [
    "import numpy as np\n",
    "import scipy as sp\n",
    "\n",
    "from psi_mode import PSIMode\n",
    "from power_bump import get_sigma0_birnstiel_bump, get_birnstiel_discontinuity\n",
    "from sizedensity import SizeDensity"
   ]
  },
  {
   "cell_type": "markdown",
   "metadata": {},
   "source": [
    "First prepare the size density function:"
   ]
  },
  {
   "cell_type": "code",
   "execution_count": 10,
   "metadata": {},
   "outputs": [],
   "source": [
    "amin = 1.0e-8\n",
    "aL = 2.0/3.0*0.1\n",
    "aP = 0.1\n",
    "aR = 0.156\n",
    "bumpfac = 2.0\n",
    "epstot = 10.0\n",
    "sigma0 = get_sigma0_birnstiel_bump(amin, aP, epstot, aL=aL, aR=aR, bumpfac=bumpfac)"
   ]
  },
  {
   "cell_type": "markdown",
   "metadata": {},
   "source": [
    "It is worth noting that the value of ```epstot``` will be ignored (overridden by the dust to gas ratio in ```PSIMode```). Now create ```SizeDistribution``` object using $\\sigma^0$ and the size range over which $\\sigma^0$ exists:"
   ]
  },
  {
   "cell_type": "code",
   "execution_count": 11,
   "metadata": {},
   "outputs": [],
   "source": [
    "sd = SizeDensity(sigma0, [amin, aR])"
   ]
  },
  {
   "cell_type": "markdown",
   "metadata": {},
   "source": [
    "This size density has a kink, the position of which we want to give to the integration routines:"
   ]
  },
  {
   "cell_type": "code",
   "execution_count": 12,
   "metadata": {},
   "outputs": [],
   "source": [
    "pole = get_birnstiel_discontinuity(amin, aP, aL=aL, aR=aR, bumpfac=bumpfac)\n",
    "sd.poles = [pole]"
   ]
  },
  {
   "cell_type": "markdown",
   "metadata": {},
   "source": [
    "Create a ```PSIMode``` object, passing our ```SizeDensity``` as the final optional parameter:"
   ]
  },
  {
   "cell_type": "code",
   "execution_count": 13,
   "metadata": {},
   "outputs": [],
   "source": [
    "np.random.seed(0)\n",
    "pm = PSIMode(dust_to_gas_ratio=epstot,\n",
    "             stokes_range=[amin, aR],\n",
    "             real_range=[-2, 2],\n",
    "             imag_range=[1.0e-8, 1],\n",
    "             n_sample=15,\n",
    "             verbose_flag=False,\n",
    "             single_size_flag=False,\n",
    "             size_density=sd)"
   ]
  },
  {
   "cell_type": "markdown",
   "metadata": {},
   "source": [
    "Find roots as usual:"
   ]
  },
  {
   "cell_type": "code",
   "execution_count": 14,
   "metadata": {},
   "outputs": [
    {
     "name": "stdout",
     "output_type": "stream",
     "text": [
      "Roots at Kx = 200, Kz = 1000: [0.50795847+0.62221256j]\n"
     ]
    }
   ],
   "source": [
    "Kx = 200\n",
    "Kz = 1000\n",
    "roots = pm.calculate(wave_number_x=Kx, wave_number_z=Kz)\n",
    "print(\"Roots at Kx = {}, Kz = {}: {}\".format(Kx, Kz, roots))"
   ]
  },
  {
   "cell_type": "markdown",
   "metadata": {},
   "source": [
    "## Diffusion\n",
    "\n",
    "Gas viscosity and associated dust diffusion, following Chen & Lin (2020), can be activated by passing a positive value  ```viscous_alpha``` to ```PSIMode.calculate```: "
   ]
  },
  {
   "cell_type": "code",
   "execution_count": 16,
   "metadata": {},
   "outputs": [
    {
     "name": "stdout",
     "output_type": "stream",
     "text": [
      "Roots at Kx = 200, Kz = 1000: [0.57801583+0.48583916j]\n"
     ]
    }
   ],
   "source": [
    "roots = pm.calculate(wave_number_x=Kx, wave_number_z=Kz, viscous_alpha=1.0e-9)\n",
    "print(\"Roots at Kx = {}, Kz = {}: {}\".format(Kx, Kz, roots))"
   ]
  },
  {
   "cell_type": "code",
   "execution_count": null,
   "metadata": {},
   "outputs": [],
   "source": []
  }
 ],
 "metadata": {
  "kernelspec": {
   "display_name": "Python 3",
   "language": "python",
   "name": "python3"
  },
  "language_info": {
   "codemirror_mode": {
    "name": "ipython",
    "version": 3
   },
   "file_extension": ".py",
   "mimetype": "text/x-python",
   "name": "python",
   "nbconvert_exporter": "python",
   "pygments_lexer": "ipython3",
   "version": "3.7.7"
  }
 },
 "nbformat": 4,
 "nbformat_minor": 4
}
