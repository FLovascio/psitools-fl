{
 "cells": [
  {
   "cell_type": "markdown",
   "metadata": {},
   "source": [
    "# Example StreamingSolver usage"
   ]
  },
  {
   "cell_type": "code",
   "execution_count": 1,
   "metadata": {},
   "outputs": [],
   "source": [
    "import numpy as np\n",
    "import importlib\n",
    "import matplotlib.pyplot as plt\n",
    "%matplotlib notebook"
   ]
  },
  {
   "cell_type": "markdown",
   "metadata": {},
   "source": [
    "Import the module implementing the solver"
   ]
  },
  {
   "cell_type": "code",
   "execution_count": 2,
   "metadata": {},
   "outputs": [],
   "source": [
    "import streamingtools"
   ]
  },
  {
   "cell_type": "markdown",
   "metadata": {},
   "source": [
    "## First example"
   ]
  },
  {
   "cell_type": "code",
   "execution_count": 3,
   "metadata": {},
   "outputs": [],
   "source": [
    "ntaus = 257 #number of dust grid points\n",
    "\n",
    "tsint = (1e-9, 1e-2)\n",
    "epstot = 3.0\n",
    "beta = -3.5\n",
    "Kx = Kz = 1e3"
   ]
  },
  {
   "cell_type": "markdown",
   "metadata": {},
   "source": [
    "a Chebyshev Roots grid - but the choice does matter, taus_gridding implements utilities for some griddings. There's an internal mapping which shows what's implemented:"
   ]
  },
  {
   "cell_type": "code",
   "execution_count": 4,
   "metadata": {},
   "outputs": [
    {
     "name": "stdout",
     "output_type": "stream",
     "text": [
      "dict_keys(['linear', 'logarithmic', 'chebyshev', 'logchebyshev', 'chebyshevroots', 'logchebyshevroots'])\n"
     ]
    }
   ],
   "source": [
    "import taus_gridding\n",
    "print(taus_gridding.gridmap.keys())"
   ]
  },
  {
   "cell_type": "code",
   "execution_count": 5,
   "metadata": {},
   "outputs": [],
   "source": [
    "taus = taus_gridding.get_gridding(taus_gridding.gridmap['chebyshevroots'], tsint, ntaus)"
   ]
  },
  {
   "cell_type": "markdown",
   "metadata": {},
   "source": [
    "A power-law dust dist solver"
   ]
  },
  {
   "cell_type": "code",
   "execution_count": 6,
   "metadata": {},
   "outputs": [],
   "source": [
    "ss = streamingtools.StreamingSolver(taus, epstot=epstot, beta=beta, alpha=None)"
   ]
  },
  {
   "cell_type": "markdown",
   "metadata": {},
   "source": [
    "Building the matrix is a sperate call, takes the nondimensional wavenumbers, \n",
    "$\\eta$ (default 0.05) is used to dimensionalize internally"
   ]
  },
  {
   "cell_type": "code",
   "execution_count": 7,
   "metadata": {},
   "outputs": [],
   "source": [
    "ss.build_system_matrix(Kx=Kx, Kz=Kz)"
   ]
  },
  {
   "cell_type": "markdown",
   "metadata": {},
   "source": [
    "The call to scipy.linang.eig is made through this call, which stores the results inside the object."
   ]
  },
  {
   "cell_type": "code",
   "execution_count": 16,
   "metadata": {},
   "outputs": [
    {
     "name": "stdout",
     "output_type": "stream",
     "text": [
      "[1.2537703 -1.07887528e+07j 0.4559936 -1.07887537e+07j\n",
      " 2.05154699-1.07887537e+07j ... 0.31992138+2.81131523e-04j\n",
      " 0.34406512+3.13290758e-04j 0.41534918+4.12225721e-04j]\n"
     ]
    }
   ],
   "source": [
    "ss.solve_eigen()\n",
    "print(ss.eigenvalues)"
   ]
  },
  {
   "cell_type": "markdown",
   "metadata": {},
   "source": [
    "To return the fastest growing eigenvalue:"
   ]
  },
  {
   "cell_type": "code",
   "execution_count": 17,
   "metadata": {},
   "outputs": [
    {
     "name": "stdout",
     "output_type": "stream",
     "text": [
      "(0.5099872864180612+0.19437187124720434j)\n"
     ]
    }
   ],
   "source": [
    "print(ss.get_fastest_growth())"
   ]
  },
  {
   "cell_type": "markdown",
   "metadata": {},
   "source": [
    "## Second example"
   ]
  },
  {
   "cell_type": "markdown",
   "metadata": {},
   "source": [
    " Solve at a series of resolutions, a growing mode, and then with alpha."
   ]
  },
  {
   "cell_type": "code",
   "execution_count": 37,
   "metadata": {
    "scrolled": true
   },
   "outputs": [],
   "source": [
    "importlib.reload(streamingtools)\n",
    "epstot = 3.0\n",
    "tsint = [1e-8, 1e-1]\n",
    "\n",
    "Kx = 50\n",
    "Kz = 100.0\n",
    "\n",
    "sl = []\n",
    "for ll in range(4,9):\n",
    "    ss = streamingtools.StreamingSolver(taus_gridding.get_gridding(taus_gridding.gridmap['chebyshevroots'],\n",
    "                                                                   tsint, 2**ll+1)\n",
    "                                        , epstot=epstot) \n",
    "    ss.build_system_matrix(Kx=Kx, Kz=Kz) \n",
    "    ss.solve_eigen()\n",
    "    sl.append(ss)"
   ]
  },
  {
   "cell_type": "markdown",
   "metadata": {},
   "source": [
    "With turbulence alpha"
   ]
  },
  {
   "cell_type": "code",
   "execution_count": 38,
   "metadata": {},
   "outputs": [],
   "source": [
    "importlib.reload(streamingtools)\n",
    "slt = []\n",
    "for ll in range(4, 9):\n",
    "    st = streamingtools.StreamingSolver(taus_gridding.get_gridding(taus_gridding.gridmap['chebyshevroots'],\n",
    "                                                                   tsint, 2**ll+1),\n",
    "                                        epstot=epstot, alpha=1e-7) \n",
    "    st.build_system_matrix(Kx, Kz) \n",
    "    st.solve_eigen()\n",
    "    slt.append(st)"
   ]
  },
  {
   "cell_type": "markdown",
   "metadata": {},
   "source": [
    "Plot dust eigenfunctions, they are smooth here as it's not a false root of the dispersion relation sitting near the branch cut."
   ]
  },
  {
   "cell_type": "code",
   "execution_count": 39,
   "metadata": {},
   "outputs": [
    {
     "data": {
      "image/png": "[encoded data removed]",
      "text/plain": [
       "<Figure size 432x288 with 1 Axes>"
      ]
     },
     "metadata": {
      "needs_background": "light"
     },
     "output_type": "display_data"
    }
   ],
   "source": [
    "#for si,ss in enumerate(sl):\n",
    "#    print('{:5d} fastest growth {:e} {:e}j'.format(len(ss.taus),ss.get_fastest_growth().real,ss.get_fastest_growth().imag))\n",
    "plt.figure()\n",
    "for si, ss in enumerate(sl):\n",
    "    plt.plot(ss.taus, ss.fastest_eigenvec_by_taus['sig'].real, color='C0')\n",
    "    plt.plot(ss.taus, ss.fastest_eigenvec_by_taus['sig'].imag, color='C1')\n",
    "for si, st in enumerate(slt):\n",
    "    plt.plot(st.taus, st.fastest_eigenvec_by_taus['sig'].real, color='red')\n",
    "    plt.plot(st.taus, st.fastest_eigenvec_by_taus['sig'].imag, color='black')\n",
    "plt.show()"
   ]
  },
  {
   "cell_type": "markdown",
   "metadata": {},
   "source": [
    "Growth rates are way down for that alpha"
   ]
  },
  {
   "cell_type": "code",
   "execution_count": 42,
   "metadata": {},
   "outputs": [
    {
     "data": {
      "image/png": "[encoded data removed]",
      "text/plain": [
       "<Figure size 432x288 with 1 Axes>"
      ]
     },
     "metadata": {
      "needs_background": "light"
     },
     "output_type": "display_data"
    }
   ],
   "source": [
    "#for si,ss in enumerate(sl):\n",
    "#    print('{:5d} fastest growth {:e} {:e}j'.format(len(ss.taus),ss.get_fastest_growth().real,ss.get_fastest_growth().imag))\n",
    "plt.figure()\n",
    "plt.loglog([len(ss.taus) for ss in sl], [ss.get_fastest_growth().imag for ss in sl],color='C1',\n",
    "           label = \"$\\\\alpha=0$\")\n",
    "plt.loglog([len(st.taus) for st in slt], [abs(st.get_fastest_growth().imag) for st in slt],color='C0',\n",
    "           label = \"$\\\\alpha=10^{-7}$ (negative)\")\n",
    "plt.legend()\n",
    "plt.xlabel(\"$N_\\\\tau$\")\n",
    "plt.ylabel(\"Im $\\\\omega$\")\n",
    "plt.show()"
   ]
  },
  {
   "cell_type": "markdown",
   "metadata": {},
   "source": [
    "## Third example"
   ]
  },
  {
   "cell_type": "markdown",
   "metadata": {},
   "source": [
    "Running a converger process, dumps to pickle."
   ]
  },
  {
   "cell_type": "code",
   "execution_count": 26,
   "metadata": {},
   "outputs": [
    {
     "name": "stdout",
     "output_type": "stream",
     "text": [
      "Writing  test/converger_cbdd317facc124cf979ddb358e0c1444.pickle\n"
     ]
    }
   ],
   "source": [
    "importlib.reload(streamingtools)\n",
    "ait = streamingtools.Converger((1e-4, 1e-3), 0.1, -3.5, 691.0, 1000.0, ll=6, refine=3,\n",
    "                               gridding='chebyshevroots', prefix='test')\n",
    "ait.runcompute()"
   ]
  },
  {
   "cell_type": "code",
   "execution_count": null,
   "metadata": {},
   "outputs": [],
   "source": []
  }
 ],
 "metadata": {
  "kernelspec": {
   "display_name": "Python 3",
   "language": "python",
   "name": "python3"
  },
  "language_info": {
   "codemirror_mode": {
    "name": "ipython",
    "version": 3
   },
   "file_extension": ".py",
   "mimetype": "text/x-python",
   "name": "python",
   "nbconvert_exporter": "python",
   "pygments_lexer": "ipython3",
   "version": "3.6.9"
  }
 },
 "nbformat": 4,
 "nbformat_minor": 2
}
