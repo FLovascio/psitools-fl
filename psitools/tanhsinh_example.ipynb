{
 "cells": [
  {
   "cell_type": "code",
   "execution_count": 1,
   "metadata": {},
   "outputs": [],
   "source": [
    "import numpy as np\n",
    "import scipy as sp\n",
    "from psitools.tanhsinh import TanhSinh"
   ]
  },
  {
   "cell_type": "markdown",
   "metadata": {},
   "source": [
    "Create integrator. By default, go for $10^{-15}$ maximum precision and 12 levels (i.e. minimum step size $2^{-12}$)."
   ]
  },
  {
   "cell_type": "code",
   "execution_count": 2,
   "metadata": {},
   "outputs": [],
   "source": [
    "integrator = TanhSinh()"
   ]
  },
  {
   "cell_type": "markdown",
   "metadata": {},
   "source": [
    "Smooth function, exact result $\\int_0^1 x\\log(1+x)dx = \\frac{1}{4}$:"
   ]
  },
  {
   "cell_type": "code",
   "execution_count": 3,
   "metadata": {},
   "outputs": [
    {
     "name": "stdout",
     "output_type": "stream",
     "text": [
      "9.992007221626409e-16\n"
     ]
    }
   ],
   "source": [
    "f = lambda x: x*np.log(1 + x)\n",
    "print(np.abs(0.25 - integrator.integrate(f, 0, 1)))"
   ]
  },
  {
   "cell_type": "markdown",
   "metadata": {},
   "source": [
    "Custom tolerance, should be larger than maximum precision:"
   ]
  },
  {
   "cell_type": "code",
   "execution_count": 4,
   "metadata": {},
   "outputs": [
    {
     "name": "stdout",
     "output_type": "stream",
     "text": [
      "3.944343737341538e-05\n"
     ]
    }
   ],
   "source": [
    "print(np.abs(0.25 - integrator.integrate(f, 0, 1, tol=1.0e-4)))"
   ]
  },
  {
   "cell_type": "markdown",
   "metadata": {},
   "source": [
    "Function with difficult endpoint: $\\int_0^1 \\sqrt{x} \\log x dx = -\\frac{4}{9}$:"
   ]
  },
  {
   "cell_type": "code",
   "execution_count": 5,
   "metadata": {},
   "outputs": [
    {
     "name": "stdout",
     "output_type": "stream",
     "text": [
      "0.0\n"
     ]
    }
   ],
   "source": [
    "f = lambda x: np.sqrt(x)*np.log(x)\n",
    "print(np.abs(-4./9. - integrator.integrate(f, 0, 1)))"
   ]
  },
  {
   "cell_type": "markdown",
   "metadata": {},
   "source": [
    "Finally, function with more problematic endpoint: $\\int_0^1 \\log^2 x = 2$:"
   ]
  },
  {
   "cell_type": "code",
   "execution_count": 6,
   "metadata": {},
   "outputs": [
    {
     "name": "stdout",
     "output_type": "stream",
     "text": [
      "1.3014034294656085e-12\n"
     ]
    }
   ],
   "source": [
    "f = lambda x: np.log(x)**2\n",
    "print(np.abs(2.0 - integrator.integrate(f, 0, 1)))"
   ]
  },
  {
   "cell_type": "markdown",
   "metadata": {},
   "source": [
    "Note that in this case, the requested tolerance is not reached. This is where quadpack does better:"
   ]
  },
  {
   "cell_type": "code",
   "execution_count": 7,
   "metadata": {},
   "outputs": [
    {
     "name": "stdout",
     "output_type": "stream",
     "text": [
      "8.881784197001252e-16\n"
     ]
    }
   ],
   "source": [
    "print(np.abs(2.0 - sp.integrate.quad(f, 0, 1)[0]))"
   ]
  },
  {
   "cell_type": "markdown",
   "metadata": {},
   "source": [
    "However, we need integrals like $\\int_0^1 \\frac{\\epsilon}{x^2+\\epsilon^2} dx = \\tan^{-1}\\left(\\frac{1}{\\epsilon}\\right)$ for $\\epsilon \\sim 10^{-8}$. This is where quadpack fails miserably:"
   ]
  },
  {
   "cell_type": "code",
   "execution_count": 8,
   "metadata": {},
   "outputs": [
    {
     "name": "stdout",
     "output_type": "stream",
     "text": [
      "(-1.0000000000061728e-08, 8.540600721962658e-14)\n"
     ]
    },
    {
     "name": "stderr",
     "output_type": "stream",
     "text": [
      "/usr/local/lib/python3.7/site-packages/ipykernel_launcher.py:3: IntegrationWarning: The integral is probably divergent, or slowly convergent.\n",
      "  This is separate from the ipykernel package so we can avoid doing imports until\n"
     ]
    }
   ],
   "source": [
    "eps = 1.0e-8\n",
    "f = lambda x: eps/(x**2 + eps**2)\n",
    "print(sp.integrate.quad(f, 0, 1))"
   ]
  },
  {
   "cell_type": "markdown",
   "metadata": {},
   "source": [
    "Fortunately, tanh-sinh does reasonably well. Note that the required tolerance of $10^{-15}$ is not reached, but the result is useable, unlike the quadpack result. "
   ]
  },
  {
   "cell_type": "code",
   "execution_count": 9,
   "metadata": {},
   "outputs": [
    {
     "name": "stdout",
     "output_type": "stream",
     "text": [
      "1.5707962136196771 1.0317521947911246e-07\n"
     ]
    }
   ],
   "source": [
    "print(integrator.integrate(f, 0, 1), np.abs(np.arctan(1/eps) - integrator.integrate(f, 0, 1)))"
   ]
  },
  {
   "cell_type": "code",
   "execution_count": null,
   "metadata": {},
   "outputs": [],
   "source": []
  }
 ],
 "metadata": {
  "kernelspec": {
   "display_name": "Python 3",
   "language": "python",
   "name": "python3"
  },
  "language_info": {
   "codemirror_mode": {
    "name": "ipython",
    "version": 3
   },
   "file_extension": ".py",
   "mimetype": "text/x-python",
   "name": "python",
   "nbconvert_exporter": "python",
   "pygments_lexer": "ipython3",
   "version": "3.7.4"
  }
 },
 "nbformat": 4,
 "nbformat_minor": 4
}
